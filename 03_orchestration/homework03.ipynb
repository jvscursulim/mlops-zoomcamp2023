{
 "cells": [
  {
   "attachments": {},
   "cell_type": "markdown",
   "metadata": {},
   "source": [
    "# MLOps Zoomcamp 2023 - Session #3 \n",
    "\n",
    "Author: José Victor"
   ]
  },
  {
   "attachments": {},
   "cell_type": "markdown",
   "metadata": {},
   "source": [
    "## Imports"
   ]
  },
  {
   "cell_type": "code",
   "execution_count": null,
   "metadata": {},
   "outputs": [],
   "source": []
  },
  {
   "attachments": {},
   "cell_type": "markdown",
   "metadata": {},
   "source": [
    "## Q1 Human-readable name\n",
    "\n",
    "You'd like to give the first task, `read_data` a nicely formatted name. How can you specify a task name?\n",
    "\n",
    "Hint: look in the docs at [https://docs.prefect.io](https://docs.prefect.io) or check out the doc string in a code editor.\n",
    "\n",
    "* ( ) `@task(retries=3, retry_delay_seconds=2, name=\"Read taxi data\")`\n",
    "* ( ) `@task(retries=3, retry_delay_seconds=2, task_name=\"Read taxi data\")`\n",
    "* ( ) `@task(retries=3, retry_delay_seconds=2, task-name=\"Read taxi data\")`\n",
    "* ( ) `@task(retries=3, retry_delay_seconds=2, task_name_function=lambda x: f\"Read taxi data\")`"
   ]
  },
  {
   "cell_type": "code",
   "execution_count": null,
   "metadata": {},
   "outputs": [],
   "source": []
  },
  {
   "attachments": {},
   "cell_type": "markdown",
   "metadata": {},
   "source": [
    "## Q2 Cron\n",
    "\n",
    "Cron is a common scheduling specification for workflows.\n",
    "\n",
    "Using the flow in `orchestrate.py`, create a deployment. Schedule your deployment to run on the third day of every month at 9am UTC. What's the cron schedule for that?\n",
    "\n",
    "* ( ) `0 9 3 * *`\n",
    "* ( ) `0 0 9 3 *`\n",
    "* ( ) `9 * 3 0 *`\n",
    "* ( ) `* * 9 3 0`"
   ]
  },
  {
   "cell_type": "code",
   "execution_count": null,
   "metadata": {},
   "outputs": [],
   "source": []
  },
  {
   "attachments": {},
   "cell_type": "markdown",
   "metadata": {},
   "source": [
    "## Q3 RMSE\n",
    "\n",
    "Download the January 2023 Green Taxi data and use it for your training data. Download the February 2023 Green Taxi data and use it for your validation data.\n",
    "\n",
    "Make sure you upload the data to GitHub so it is available for your deployment.\n",
    "\n",
    "Create a custom flow run of your deployment from the UI. Choose Custom Run for the flow and enter the file path as a string on the JSON tab under Parameters.\n",
    "\n",
    "Make sure you have a worker running and polling the correct work pool.\n",
    "\n",
    "View the results in the UI.\n",
    "\n",
    "What's the final RMSE to five decimal places?\n",
    "\n",
    "* ( ) 6.67433\n",
    "* ( ) 5.19931\n",
    "* ( ) 8.89443\n",
    "* ( ) 9.12250"
   ]
  },
  {
   "cell_type": "code",
   "execution_count": null,
   "metadata": {},
   "outputs": [],
   "source": []
  },
  {
   "attachments": {},
   "cell_type": "markdown",
   "metadata": {},
   "source": [
    "## Q4 RMSE (Markdown Artifact)\n",
    "\n",
    "Download the February 2023 Green Taxi data and use it for your training data. Download the March 2023 Green Taxi data and use it for your validation data.\n",
    "\n",
    "Create a Prefect Markdown artifact that displays the RMSE for the validation data. Create a deployment and run it.\n",
    "\n",
    "What's the RMSE in the artifact to two decimal places?\n",
    "\n",
    "* ( ) 9.71\n",
    "* ( ) 12.02\n",
    "* ( ) 15.33\n",
    "* ( ) 5.37"
   ]
  },
  {
   "cell_type": "code",
   "execution_count": null,
   "metadata": {},
   "outputs": [],
   "source": []
  },
  {
   "attachments": {},
   "cell_type": "markdown",
   "metadata": {},
   "source": [
    "## Q5 Emails\n",
    "\n",
    "It's often helpful to be notified when something with your dataflow doesn't work as planned. Create an email notification for to use with your own Prefect server instance. In your virtual environment, install the prefect-email integration with\n",
    "\n",
    "```bash\n",
    "pip install prefect-email\n",
    "```\n",
    "\n",
    "Make sure you are connected to a running Prefect server instance through your Prefect profile. See the docs if needed: [https://docs.prefect.io/latest/concepts/settings/#configuration-profiles](https://docs.prefect.io/latest/concepts/settings/#configuration-profiles)\n",
    "\n",
    "Register the new block with your server with\n",
    "\n",
    "```bash\n",
    "prefect block register -m prefect_email\n",
    "```\n",
    "\n",
    "Remember that a block is a Prefect class with a nice UI form interface. Block objects live on the server and can be created and accessed in your Python code.\n",
    "\n",
    "See the docs for how to authenticate by saving your email credentials to a block and note that you will need an App Password to send emails with Gmail and other services. Follow the instructions in the docs.\n",
    "\n",
    "Create and save an `EmailServerCredentials` notification block. Use the credentials block to send an email.\n",
    "\n",
    "Test the notification functionality by running a deployment.\n",
    "\n",
    "What is the name of the pre-built prefect-email task function?\n",
    "\n",
    "* ( ) `send_email_message`\n",
    "* ( ) `email_send_message`\n",
    "* ( ) `send_email`\n",
    "* ( ) `send_message`"
   ]
  },
  {
   "cell_type": "code",
   "execution_count": null,
   "metadata": {},
   "outputs": [],
   "source": []
  },
  {
   "attachments": {},
   "cell_type": "markdown",
   "metadata": {},
   "source": [
    "## Q6 Prefect Cloud\n",
    "\n",
    "The hosted Prefect Cloud lets you avoid running your own Prefect server and has automations that allow you to get notifications when certain events occur on don't occur.\n",
    "\n",
    "Create a free forever Prefect Cloud account at app.prefect.cloud and connect your workspace to it following the steps in the UI when you sign up.\n",
    "\n",
    "Set up an Automation from the UI that will send yourself an email when a flow run completes. Run one of your existing deployments and check your email to see the notification.\n",
    "\n",
    "Make sure your active profile is pointing toward Prefect Cloud and make sure you have a worker active.\n",
    "\n",
    "What is the name of the second step in the Automation creation process?\n",
    "\n",
    "* ( ) Details\n",
    "* ( ) Trigger\n",
    "* ( ) Actions\n",
    "* ( ) The end"
   ]
  },
  {
   "cell_type": "code",
   "execution_count": null,
   "metadata": {},
   "outputs": [],
   "source": []
  }
 ],
 "metadata": {
  "language_info": {
   "name": "python"
  },
  "orig_nbformat": 4
 },
 "nbformat": 4,
 "nbformat_minor": 2
}
