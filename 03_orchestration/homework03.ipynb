{
 "cells": [
  {
   "attachments": {},
   "cell_type": "markdown",
   "metadata": {},
   "source": [
    "# MLOps Zoomcamp 2023 - Session #3 \n",
    "\n",
    "Author: José Victor"
   ]
  },
  {
   "attachments": {},
   "cell_type": "markdown",
   "metadata": {},
   "source": [
    "Start with the orchestrate.py file in the 03-orchestration/3.4 folder of the course repo: https://github.com/DataTalksClub/mlops-zoomcamp/blob/main/03-orchestration/3.4/orchestrate.py"
   ]
  },
  {
   "attachments": {},
   "cell_type": "markdown",
   "metadata": {},
   "source": [
    "## Imports"
   ]
  },
  {
   "cell_type": "code",
   "execution_count": 1,
   "metadata": {},
   "outputs": [],
   "source": [
    "import pandas as pd\n",
    "\n",
    "from prefect import task"
   ]
  },
  {
   "attachments": {},
   "cell_type": "markdown",
   "metadata": {},
   "source": [
    "## Q1 Human-readable name\n",
    "\n",
    "You'd like to give the first task, `read_data` a nicely formatted name. How can you specify a task name?\n",
    "\n",
    "Hint: look in the docs at [https://docs.prefect.io](https://docs.prefect.io) or check out the doc string in a code editor.\n",
    "\n",
    "* (X) `@task(retries=3, retry_delay_seconds=2, name=\"Read taxi data\")`\n",
    "* ( ) `@task(retries=3, retry_delay_seconds=2, task_name=\"Read taxi data\")`\n",
    "* ( ) `@task(retries=3, retry_delay_seconds=2, task-name=\"Read taxi data\")`\n",
    "* ( ) `@task(retries=3, retry_delay_seconds=2, task_name_function=lambda x: f\"Read taxi data\")`"
   ]
  },
  {
   "cell_type": "code",
   "execution_count": null,
   "metadata": {},
   "outputs": [],
   "source": [
    "@task(retries=3, retry_delay_seconds=2, name=\"Read taxi data\")\n",
    "def read_data(filename: str) -> pd.DataFrame:\n",
    "    \"\"\"Read data into DataFrame\"\"\"\n",
    "    df = pd.read_parquet(filename)\n",
    "\n",
    "    df.lpep_dropoff_datetime = pd.to_datetime(df.lpep_dropoff_datetime)\n",
    "    df.lpep_pickup_datetime = pd.to_datetime(df.lpep_pickup_datetime)\n",
    "\n",
    "    df[\"duration\"] = df.lpep_dropoff_datetime - df.lpep_pickup_datetime\n",
    "    df.duration = df.duration.apply(lambda td: td.total_seconds() / 60)\n",
    "\n",
    "    df = df[(df.duration >= 1) & (df.duration <= 60)]\n",
    "\n",
    "    categorical = [\"PULocationID\", \"DOLocationID\"]\n",
    "    df[categorical] = df[categorical].astype(str)\n",
    "\n",
    "    return df"
   ]
  },
  {
   "attachments": {},
   "cell_type": "markdown",
   "metadata": {},
   "source": [
    "## Q2 Cron\n",
    "\n",
    "Cron is a common scheduling specification for workflows.\n",
    "\n",
    "Using the flow in `orchestrate.py`, create a deployment. Schedule your deployment to run on the third day of every month at 9am UTC. What's the cron schedule for that?\n",
    "\n",
    "* (X) `0 9 3 * *`\n",
    "* ( ) `0 0 9 3 *`\n",
    "* ( ) `9 * 3 0 *`\n",
    "* ( ) `* * 9 3 0`"
   ]
  },
  {
   "cell_type": "code",
   "execution_count": 8,
   "metadata": {},
   "outputs": [
    {
     "name": "stderr",
     "output_type": "stream",
     "text": [
      "19:59:52.626 | INFO    | prefect.engine - Created flow run 'nimble-kudu' for flow 'main-flow'\n",
      "2023/06/11 19:59:52 INFO mlflow.store.db.utils: Creating initial MLflow database tables...\n",
      "2023/06/11 19:59:52 INFO mlflow.store.db.utils: Updating database tables\n",
      "INFO  [alembic.runtime.migration] Context impl SQLiteImpl.\n",
      "INFO  [alembic.runtime.migration] Will assume non-transactional DDL.\n",
      "INFO  [alembic.runtime.migration] Running upgrade  -> 451aebb31d03, add metric step\n",
      "INFO  [alembic.runtime.migration] Running upgrade 451aebb31d03 -> 90e64c465722, migrate user column to tags\n",
      "INFO  [alembic.runtime.migration] Running upgrade 90e64c465722 -> 181f10493468, allow nulls for metric values\n",
      "INFO  [alembic.runtime.migration] Running upgrade 181f10493468 -> df50e92ffc5e, Add Experiment Tags Table\n",
      "INFO  [alembic.runtime.migration] Running upgrade df50e92ffc5e -> 7ac759974ad8, Update run tags with larger limit\n",
      "INFO  [alembic.runtime.migration] Running upgrade 7ac759974ad8 -> 89d4b8295536, create latest metrics table\n",
      "INFO  [89d4b8295536_create_latest_metrics_table_py] Migration complete!\n",
      "INFO  [alembic.runtime.migration] Running upgrade 89d4b8295536 -> 2b4d017a5e9b, add model registry tables to db\n",
      "INFO  [2b4d017a5e9b_add_model_registry_tables_to_db_py] Adding registered_models and model_versions tables to database.\n",
      "INFO  [2b4d017a5e9b_add_model_registry_tables_to_db_py] Migration complete!\n",
      "INFO  [alembic.runtime.migration] Running upgrade 2b4d017a5e9b -> cfd24bdc0731, Update run status constraint with killed\n",
      "INFO  [alembic.runtime.migration] Running upgrade cfd24bdc0731 -> 0a8213491aaa, drop_duplicate_killed_constraint\n",
      "INFO  [alembic.runtime.migration] Running upgrade 0a8213491aaa -> 728d730b5ebd, add registered model tags table\n",
      "INFO  [alembic.runtime.migration] Running upgrade 728d730b5ebd -> 27a6a02d2cf1, add model version tags table\n",
      "INFO  [alembic.runtime.migration] Running upgrade 27a6a02d2cf1 -> 84291f40a231, add run_link to model_version\n",
      "INFO  [alembic.runtime.migration] Running upgrade 84291f40a231 -> a8c4a736bde6, allow nulls for run_id\n",
      "INFO  [alembic.runtime.migration] Running upgrade a8c4a736bde6 -> 39d1c3be5f05, add_is_nan_constraint_for_metrics_tables_if_necessary\n",
      "INFO  [alembic.runtime.migration] Running upgrade 39d1c3be5f05 -> c48cb773bb87, reset_default_value_for_is_nan_in_metrics_table_for_mysql\n",
      "INFO  [alembic.runtime.migration] Running upgrade c48cb773bb87 -> bd07f7e963c5, create index on run_uuid\n",
      "INFO  [alembic.runtime.migration] Running upgrade bd07f7e963c5 -> 0c779009ac13, add deleted_time field to runs table\n",
      "INFO  [alembic.runtime.migration] Running upgrade 0c779009ac13 -> cc1f77228345, change param value length to 500\n",
      "INFO  [alembic.runtime.migration] Running upgrade cc1f77228345 -> 97727af70f4d, Add creation_time and last_update_time to experiments table\n",
      "INFO  [alembic.runtime.migration] Running upgrade 97727af70f4d -> 3500859a5d39, Add Model Aliases table\n",
      "INFO  [alembic.runtime.migration] Running upgrade 3500859a5d39 -> 7f2a7d5fae7d, add datasets inputs input_tags tables\n",
      "INFO  [alembic.runtime.migration] Context impl SQLiteImpl.\n",
      "INFO  [alembic.runtime.migration] Will assume non-transactional DDL.\n",
      "2023/06/11 19:59:53 INFO mlflow.tracking.fluent: Experiment with name 'nyc-taxi-experiment' does not exist. Creating a new experiment.\n",
      "INFO  [prefect.flow_runs] Created task run 'Read taxi data-0' for task 'Read taxi data'\n",
      "INFO  [prefect.flow_runs] Executing 'Read taxi data-0' immediately...\n",
      "INFO  [prefect.task_runs] Finished in state Completed()\n",
      "INFO  [prefect.flow_runs] Created task run 'Read taxi data-1' for task 'Read taxi data'\n",
      "INFO  [prefect.flow_runs] Executing 'Read taxi data-1' immediately...\n",
      "INFO  [prefect.task_runs] Finished in state Completed()\n",
      "INFO  [prefect.flow_runs] Created task run 'add_features-0' for task 'add_features'\n",
      "INFO  [prefect.flow_runs] Executing 'add_features-0' immediately...\n",
      "INFO  [prefect.task_runs] Finished in state Completed()\n",
      "INFO  [prefect.flow_runs] Created task run 'train_best_model-0' for task 'train_best_model'\n",
      "INFO  [prefect.flow_runs] Executing 'train_best_model-0' immediately...\n",
      "[19:59:57] WARNING: C:\\buildkite-agent\\builds\\buildkite-windows-cpu-autoscaling-group-i-07593ffd91cd9da33-1\\xgboost\\xgboost-ci-windows\\src\\objective\\regression_obj.cu:213: reg:linear is now deprecated in favor of reg:squarederror.\n",
      "INFO  [prefect.task_runs] [0]\tvalidation-rmse:16.05222\n",
      "INFO  [prefect.task_runs] [1]\tvalidation-rmse:14.80991\n",
      "INFO  [prefect.task_runs] [2]\tvalidation-rmse:13.70426\n",
      "INFO  [prefect.task_runs] [3]\tvalidation-rmse:12.72334\n",
      "INFO  [prefect.task_runs] [4]\tvalidation-rmse:11.85426\n",
      "INFO  [prefect.task_runs] [5]\tvalidation-rmse:11.08754\n",
      "INFO  [prefect.task_runs] [6]\tvalidation-rmse:10.40977\n",
      "INFO  [prefect.task_runs] [7]\tvalidation-rmse:9.81644\n",
      "INFO  [prefect.task_runs] [8]\tvalidation-rmse:9.29393\n",
      "INFO  [prefect.task_runs] [9]\tvalidation-rmse:8.83727\n",
      "INFO  [prefect.task_runs] [10]\tvalidation-rmse:8.44321\n",
      "INFO  [prefect.task_runs] [11]\tvalidation-rmse:8.09929\n",
      "INFO  [prefect.task_runs] [12]\tvalidation-rmse:7.80066\n",
      "INFO  [prefect.task_runs] [13]\tvalidation-rmse:7.54277\n",
      "INFO  [prefect.task_runs] [14]\tvalidation-rmse:7.32073\n",
      "INFO  [prefect.task_runs] [15]\tvalidation-rmse:7.13099\n",
      "INFO  [prefect.task_runs] [16]\tvalidation-rmse:6.96424\n",
      "INFO  [prefect.task_runs] [17]\tvalidation-rmse:6.82343\n",
      "INFO  [prefect.task_runs] [18]\tvalidation-rmse:6.70509\n",
      "INFO  [prefect.task_runs] [19]\tvalidation-rmse:6.59884\n",
      "INFO  [prefect.task_runs] [20]\tvalidation-rmse:6.50907\n",
      "INFO  [prefect.task_runs] [21]\tvalidation-rmse:6.43080\n",
      "INFO  [prefect.task_runs] [22]\tvalidation-rmse:6.36414\n",
      "INFO  [prefect.task_runs] [23]\tvalidation-rmse:6.30746\n",
      "INFO  [prefect.task_runs] [24]\tvalidation-rmse:6.25621\n",
      "INFO  [prefect.task_runs] [25]\tvalidation-rmse:6.21359\n",
      "INFO  [prefect.task_runs] [26]\tvalidation-rmse:6.17416\n",
      "INFO  [prefect.task_runs] [27]\tvalidation-rmse:6.14260\n",
      "INFO  [prefect.task_runs] [28]\tvalidation-rmse:6.11399\n",
      "INFO  [prefect.task_runs] [29]\tvalidation-rmse:6.08850\n",
      "INFO  [prefect.task_runs] [30]\tvalidation-rmse:6.06666\n",
      "INFO  [prefect.task_runs] [31]\tvalidation-rmse:6.04763\n",
      "INFO  [prefect.task_runs] [32]\tvalidation-rmse:6.03065\n",
      "INFO  [prefect.task_runs] [33]\tvalidation-rmse:6.01564\n",
      "INFO  [prefect.task_runs] [34]\tvalidation-rmse:6.00250\n",
      "INFO  [prefect.task_runs] [35]\tvalidation-rmse:5.99069\n",
      "INFO  [prefect.task_runs] [36]\tvalidation-rmse:5.98028\n",
      "INFO  [prefect.task_runs] [37]\tvalidation-rmse:5.97003\n",
      "INFO  [prefect.task_runs] [38]\tvalidation-rmse:5.96154\n",
      "INFO  [prefect.task_runs] [39]\tvalidation-rmse:5.95434\n",
      "INFO  [prefect.task_runs] [40]\tvalidation-rmse:5.94833\n",
      "INFO  [prefect.task_runs] [41]\tvalidation-rmse:5.94290\n",
      "INFO  [prefect.task_runs] [42]\tvalidation-rmse:5.93855\n",
      "INFO  [prefect.task_runs] [43]\tvalidation-rmse:5.93435\n",
      "INFO  [prefect.task_runs] [44]\tvalidation-rmse:5.93165\n",
      "INFO  [prefect.task_runs] [45]\tvalidation-rmse:5.92914\n",
      "INFO  [prefect.task_runs] [46]\tvalidation-rmse:5.92591\n",
      "INFO  [prefect.task_runs] [47]\tvalidation-rmse:5.92442\n",
      "INFO  [prefect.task_runs] [48]\tvalidation-rmse:5.92113\n",
      "INFO  [prefect.task_runs] [49]\tvalidation-rmse:5.91962\n",
      "INFO  [prefect.task_runs] [50]\tvalidation-rmse:5.91705\n",
      "INFO  [prefect.task_runs] [51]\tvalidation-rmse:5.91539\n",
      "INFO  [prefect.task_runs] [52]\tvalidation-rmse:5.91367\n",
      "INFO  [prefect.task_runs] [53]\tvalidation-rmse:5.91227\n",
      "INFO  [prefect.task_runs] [54]\tvalidation-rmse:5.91099\n",
      "INFO  [prefect.task_runs] [55]\tvalidation-rmse:5.90997\n",
      "INFO  [prefect.task_runs] [56]\tvalidation-rmse:5.90927\n",
      "INFO  [prefect.task_runs] [57]\tvalidation-rmse:5.90851\n",
      "INFO  [prefect.task_runs] [58]\tvalidation-rmse:5.90776\n",
      "INFO  [prefect.task_runs] [59]\tvalidation-rmse:5.90591\n",
      "INFO  [prefect.task_runs] [60]\tvalidation-rmse:5.90469\n",
      "INFO  [prefect.task_runs] [61]\tvalidation-rmse:5.90353\n",
      "INFO  [prefect.task_runs] [62]\tvalidation-rmse:5.90203\n",
      "INFO  [prefect.task_runs] [63]\tvalidation-rmse:5.90131\n",
      "INFO  [prefect.task_runs] [64]\tvalidation-rmse:5.90075\n",
      "INFO  [prefect.task_runs] [65]\tvalidation-rmse:5.89946\n",
      "INFO  [prefect.task_runs] [66]\tvalidation-rmse:5.89785\n",
      "INFO  [prefect.task_runs] [67]\tvalidation-rmse:5.89736\n",
      "INFO  [prefect.task_runs] [68]\tvalidation-rmse:5.89642\n",
      "INFO  [prefect.task_runs] [69]\tvalidation-rmse:5.89603\n",
      "INFO  [prefect.task_runs] [70]\tvalidation-rmse:5.89556\n",
      "INFO  [prefect.task_runs] [71]\tvalidation-rmse:5.89421\n",
      "INFO  [prefect.task_runs] [72]\tvalidation-rmse:5.89367\n",
      "INFO  [prefect.task_runs] [73]\tvalidation-rmse:5.89338\n",
      "INFO  [prefect.task_runs] [74]\tvalidation-rmse:5.89262\n",
      "INFO  [prefect.task_runs] [75]\tvalidation-rmse:5.89231\n",
      "INFO  [prefect.task_runs] [76]\tvalidation-rmse:5.89181\n",
      "INFO  [prefect.task_runs] [77]\tvalidation-rmse:5.89075\n",
      "INFO  [prefect.task_runs] [78]\tvalidation-rmse:5.89046\n",
      "INFO  [prefect.task_runs] [79]\tvalidation-rmse:5.88968\n",
      "INFO  [prefect.task_runs] [80]\tvalidation-rmse:5.88951\n",
      "INFO  [prefect.task_runs] [81]\tvalidation-rmse:5.88922\n",
      "INFO  [prefect.task_runs] [82]\tvalidation-rmse:5.88847\n",
      "INFO  [prefect.task_runs] [83]\tvalidation-rmse:5.88768\n",
      "INFO  [prefect.task_runs] [84]\tvalidation-rmse:5.88717\n",
      "INFO  [prefect.task_runs] [85]\tvalidation-rmse:5.88675\n",
      "INFO  [prefect.task_runs] [86]\tvalidation-rmse:5.88557\n",
      "INFO  [prefect.task_runs] [87]\tvalidation-rmse:5.88500\n",
      "INFO  [prefect.task_runs] [88]\tvalidation-rmse:5.88418\n",
      "INFO  [prefect.task_runs] [89]\tvalidation-rmse:5.88386\n",
      "INFO  [prefect.task_runs] [90]\tvalidation-rmse:5.88387\n",
      "INFO  [prefect.task_runs] [91]\tvalidation-rmse:5.88340\n",
      "INFO  [prefect.task_runs] [92]\tvalidation-rmse:5.88287\n",
      "INFO  [prefect.task_runs] [93]\tvalidation-rmse:5.88227\n",
      "INFO  [prefect.task_runs] [94]\tvalidation-rmse:5.88233\n",
      "INFO  [prefect.task_runs] [95]\tvalidation-rmse:5.88205\n",
      "INFO  [prefect.task_runs] [96]\tvalidation-rmse:5.88159\n",
      "INFO  [prefect.task_runs] [97]\tvalidation-rmse:5.88079\n",
      "INFO  [prefect.task_runs] [98]\tvalidation-rmse:5.88067\n",
      "INFO  [prefect.task_runs] [99]\tvalidation-rmse:5.87986\n",
      "j:\\Coding\\mlops-zoomcamp2023\\env\\lib\\site-packages\\_distutils_hack\\__init__.py:33: UserWarning: Setuptools is replacing distutils.\n",
      "  warnings.warn(\"Setuptools is replacing distutils.\")\n",
      "INFO  [prefect.task_runs] Finished in state Completed()\n",
      "INFO  [prefect.flow_runs] Finished in state Completed('All states completed.')\n"
     ]
    }
   ],
   "source": [
    "!python 3.4/orchestrate.py "
   ]
  },
  {
   "cell_type": "code",
   "execution_count": 10,
   "metadata": {},
   "outputs": [
    {
     "name": "stdout",
     "output_type": "stream",
     "text": [
      "Found flow 'main-flow'\n",
      "Deployment YAML created at \n",
      "'j:\\Coding\\mlops-zoomcamp2023\\03_orchestration\\main_flow-deployment.yaml'.\n",
      "Deployment storage None does not have upload capabilities; no files uploaded.  \n",
      "Pass --skip-upload to suppress this warning.\n"
     ]
    }
   ],
   "source": [
    "!prefect deployment build --name taxi_homework 3.4/orchestrate.py:main_flow"
   ]
  },
  {
   "cell_type": "code",
   "execution_count": 11,
   "metadata": {},
   "outputs": [
    {
     "name": "stdout",
     "output_type": "stream",
     "text": [
      "Successfully loaded 'taxi_homework'\n",
      "Deployment 'main-flow/taxi_homework' successfully created with id \n",
      "'ee461fe0-bd68-47db-bdc3-4bdfddfa015d'.\n",
      "\n",
      "To execute flow runs from this deployment, start an agent that pulls work from \n",
      "the 'default' work queue:\n",
      "$ prefect agent start -q 'default'\n"
     ]
    }
   ],
   "source": [
    "!prefect deployment apply main_flow-deployment.yaml"
   ]
  },
  {
   "attachments": {},
   "cell_type": "markdown",
   "metadata": {},
   "source": [
    "## Q3 RMSE\n",
    "\n",
    "Download the January 2023 Green Taxi data and use it for your training data. Download the February 2023 Green Taxi data and use it for your validation data.\n",
    "\n",
    "Make sure you upload the data to GitHub so it is available for your deployment.\n",
    "\n",
    "Create a custom flow run of your deployment from the UI. Choose Custom Run for the flow and enter the file path as a string on the JSON tab under Parameters.\n",
    "\n",
    "Make sure you have a worker running and polling the correct work pool.\n",
    "\n",
    "View the results in the UI.\n",
    "\n",
    "What's the final RMSE to five decimal places?\n",
    "\n",
    "* ( ) 6.67433\n",
    "* (X) 5.19931\n",
    "* ( ) 8.89443\n",
    "* ( ) 9.12250"
   ]
  },
  {
   "attachments": {},
   "cell_type": "markdown",
   "metadata": {},
   "source": [
    "## Q4 RMSE (Markdown Artifact)\n",
    "\n",
    "Download the February 2023 Green Taxi data and use it for your training data. Download the March 2023 Green Taxi data and use it for your validation data.\n",
    "\n",
    "Create a Prefect Markdown artifact that displays the RMSE for the validation data. Create a deployment and run it.\n",
    "\n",
    "What's the RMSE in the artifact to two decimal places?\n",
    "\n",
    "* ( ) 9.71\n",
    "* ( ) 12.02\n",
    "* ( ) 15.33\n",
    "* (X) 5.37"
   ]
  },
  {
   "attachments": {},
   "cell_type": "markdown",
   "metadata": {},
   "source": [
    "## Q5 Emails\n",
    "\n",
    "It's often helpful to be notified when something with your dataflow doesn't work as planned. Create an email notification for to use with your own Prefect server instance. In your virtual environment, install the prefect-email integration with\n",
    "\n",
    "```bash\n",
    "pip install prefect-email\n",
    "```\n",
    "\n",
    "Make sure you are connected to a running Prefect server instance through your Prefect profile. See the docs if needed: [https://docs.prefect.io/latest/concepts/settings/#configuration-profiles](https://docs.prefect.io/latest/concepts/settings/#configuration-profiles)\n",
    "\n",
    "Register the new block with your server with\n",
    "\n",
    "```bash\n",
    "prefect block register -m prefect_email\n",
    "```\n",
    "\n",
    "Remember that a block is a Prefect class with a nice UI form interface. Block objects live on the server and can be created and accessed in your Python code.\n",
    "\n",
    "See the docs for how to authenticate by saving your email credentials to a block and note that you will need an App Password to send emails with Gmail and other services. Follow the instructions in the docs.\n",
    "\n",
    "Create and save an `EmailServerCredentials` notification block. Use the credentials block to send an email.\n",
    "\n",
    "Test the notification functionality by running a deployment.\n",
    "\n",
    "What is the name of the pre-built prefect-email task function?\n",
    "\n",
    "* ( ) `send_email_message`\n",
    "* (X) `email_send_message`\n",
    "* ( ) `send_email`\n",
    "* ( ) `send_message`"
   ]
  },
  {
   "cell_type": "code",
   "execution_count": null,
   "metadata": {},
   "outputs": [],
   "source": [
    "!pipenv install prefect-email"
   ]
  },
  {
   "cell_type": "code",
   "execution_count": null,
   "metadata": {},
   "outputs": [],
   "source": [
    "!prefect block register -m prefect_email"
   ]
  },
  {
   "attachments": {},
   "cell_type": "markdown",
   "metadata": {},
   "source": [
    "## Q6 Prefect Cloud\n",
    "\n",
    "The hosted Prefect Cloud lets you avoid running your own Prefect server and has automations that allow you to get notifications when certain events occur on don't occur.\n",
    "\n",
    "Create a free forever Prefect Cloud account at app.prefect.cloud and connect your workspace to it following the steps in the UI when you sign up.\n",
    "\n",
    "Set up an Automation from the UI that will send yourself an email when a flow run completes. Run one of your existing deployments and check your email to see the notification.\n",
    "\n",
    "Make sure your active profile is pointing toward Prefect Cloud and make sure you have a worker active.\n",
    "\n",
    "What is the name of the second step in the Automation creation process?\n",
    "\n",
    "* ( ) Details\n",
    "* ( ) Trigger\n",
    "* (X) Actions\n",
    "* ( ) The end"
   ]
  },
  {
   "attachments": {},
   "cell_type": "markdown",
   "metadata": {},
   "source": []
  }
 ],
 "metadata": {
  "kernelspec": {
   "display_name": "env",
   "language": "python",
   "name": "python3"
  },
  "language_info": {
   "codemirror_mode": {
    "name": "ipython",
    "version": 3
   },
   "file_extension": ".py",
   "mimetype": "text/x-python",
   "name": "python",
   "nbconvert_exporter": "python",
   "pygments_lexer": "ipython3",
   "version": "3.9.12"
  },
  "orig_nbformat": 4
 },
 "nbformat": 4,
 "nbformat_minor": 2
}
