{
 "cells": [
  {
   "attachments": {},
   "cell_type": "markdown",
   "metadata": {},
   "source": [
    "# MLOps Zoomcamp 2023 - Session #4\n",
    "\n",
    "Author: José Victor\n",
    "\n",
    "Starter code is at in the [homework](https://github.com/DataTalksClub/mlops-zoomcamp/tree/main/cohorts/2023/04-deployment/homework) directory."
   ]
  },
  {
   "attachments": {},
   "cell_type": "markdown",
   "metadata": {},
   "source": [
    "## Imports"
   ]
  },
  {
   "cell_type": "code",
   "execution_count": null,
   "metadata": {},
   "outputs": [],
   "source": []
  },
  {
   "attachments": {},
   "cell_type": "markdown",
   "metadata": {},
   "source": [
    "## Q1 Notebook\n",
    "\n",
    "We'll start with the same notebook we ended up with in homework 1. We cleaned it a little bit and kept only scoring part. You can find the initial notebook [here](https://github.com/DataTalksClub/mlops-zoomcamp/blob/main/cohorts/2023/04-deployment/homework/starter.ipynb).\n",
    "\n",
    "Run this notebook for the February 2022 data.\n",
    "\n",
    "What's the standard deviation of the predicted duration for this dataset?\n",
    "\n",
    "* ( ) 5.28\n",
    "* ( ) 10.28\n",
    "* ( ) 15.28\n",
    "* ( ) 20.28"
   ]
  },
  {
   "cell_type": "code",
   "execution_count": null,
   "metadata": {},
   "outputs": [],
   "source": []
  },
  {
   "attachments": {},
   "cell_type": "markdown",
   "metadata": {},
   "source": [
    "## Q2 Preparing the output\n",
    "\n",
    "Like in the course videos, we want to prepare the dataframe with the output.\n",
    "\n",
    "First, let's create an artificial `ride_id` column:\n",
    "\n",
    "```python\n",
    "df['ride_id'] = f\"{year:04d}/{month:02d}\" + df.index.astype(\"str\")\n",
    "```\n",
    "\n",
    "Next, write the ride id and the predictions to a dataframe with results.\n",
    "\n",
    "Save it as parquet:\n",
    "\n",
    "```python\n",
    "df_result.to_parquet(output_file, engine=\"pyarrow\", compression=None, index=False)\n",
    "```\n",
    "\n",
    "What's the size of the output file?\n",
    "\n",
    "* ( ) 28M\n",
    "* ( ) 38M\n",
    "* ( ) 48M\n",
    "* ( ) 58M\n",
    "\n",
    "$\\textbf{Note}$: Make sure you the snippet above for saving the file. It should contain only these two columns. For this question, don't change the dtypes of the columns and use pyarrow, not fastparquet."
   ]
  },
  {
   "cell_type": "code",
   "execution_count": null,
   "metadata": {},
   "outputs": [],
   "source": []
  },
  {
   "attachments": {},
   "cell_type": "markdown",
   "metadata": {},
   "source": [
    "## Q3 Creating the scoring script\n",
    "\n",
    "Now let's turn the notebook into a script.\n",
    "\n",
    "Which command you need to execute for that?"
   ]
  },
  {
   "cell_type": "code",
   "execution_count": null,
   "metadata": {},
   "outputs": [],
   "source": []
  },
  {
   "attachments": {},
   "cell_type": "markdown",
   "metadata": {},
   "source": [
    "## Q4 Virtual environment\n",
    "\n",
    "Now let's put everything into a virtual environment. We'll use pipenv for that.\n",
    "\n",
    "Install all the required libraries. Pay attention to the Scikit-Learn version: check the starter notebook for details.\n",
    "\n",
    "After installing the libraries, pipenv creates two files: `Pipfile` and `Pipfile.lock`. The `Pipfile.lock` file keeps the hashes of the depencies we use for the virtual env.\n",
    "\n",
    "What's the first hash for the Scikit-Learn dependency?"
   ]
  },
  {
   "cell_type": "code",
   "execution_count": null,
   "metadata": {},
   "outputs": [],
   "source": []
  },
  {
   "attachments": {},
   "cell_type": "markdown",
   "metadata": {},
   "source": [
    "## Q5 Parametrize the script\n",
    "\n",
    "Let's now make the script configurable via CLI. We'll create two parameters: year and month.\n",
    "\n",
    "Run the script for March 2022.\n",
    "\n",
    "What's the mean predicted duration?\n",
    "\n",
    "* ( ) 7.76\n",
    "* ( ) 12.76\n",
    "* ( ) 17.76\n",
    "* ( ) 22.76\n",
    "\n",
    "Hint: just add a print statement to your script."
   ]
  },
  {
   "cell_type": "code",
   "execution_count": null,
   "metadata": {},
   "outputs": [],
   "source": []
  },
  {
   "attachments": {},
   "cell_type": "markdown",
   "metadata": {},
   "source": [
    "## Q6 Docker container\n",
    "\n",
    "Finally, we'll package the script in the docker container. For that, you'll need to use a base image that we prepared.\n",
    "\n",
    "This is how it looks like::\n",
    "\n",
    "```\n",
    "FROM python:3.10.0-slim\n",
    "\n",
    "WORKDIR /app\n",
    "\n",
    "COPY [ \"model2.bin\", \"model.bin\" ]\n",
    "```\n",
    "(see [`homework/Dockerfile`](https://github.com/DataTalksClub/mlops-zoomcamp/blob/main/cohorts/2023/04-deployment/homework/Dockerfile))\n",
    "\n",
    "We pushed it to `svizor/zoomcamp-model:mlops-3.10.0-slim`, which you should use as your base image. That is, this is how your Dockerfile should start:\n",
    "\n",
    "```\n",
    "FROM svizor/zoomcamp-model:mlops-3.10.0-slim\n",
    "\n",
    "# do stuff here\n",
    "```\n",
    "This image already has a pickle file with a dictionary vectorizer and a model. You will need to use them.\n",
    "\n",
    "Important: don't copy the model to the docker image. You will need to use the pickle file already in the image.\n",
    "\n",
    "Now run the script with docker. What's the mean predicted duration for April 2022?\n",
    "\n",
    "* ( ) 7.92\n",
    "* ( ) 12.83\n",
    "* ( ) 17.92\n",
    "* ( ) 22.83"
   ]
  },
  {
   "cell_type": "code",
   "execution_count": null,
   "metadata": {},
   "outputs": [],
   "source": []
  }
 ],
 "metadata": {
  "language_info": {
   "name": "python"
  },
  "orig_nbformat": 4
 },
 "nbformat": 4,
 "nbformat_minor": 2
}
