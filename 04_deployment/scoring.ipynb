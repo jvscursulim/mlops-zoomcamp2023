{
 "cells": [
  {
   "cell_type": "code",
   "execution_count": 1,
   "id": "0ef880a0",
   "metadata": {},
   "outputs": [],
   "source": [
    "import pickle\n",
    "import pandas as pd"
   ]
  },
  {
   "cell_type": "code",
   "execution_count": 2,
   "id": "ea047225",
   "metadata": {},
   "outputs": [],
   "source": [
    "year = 2022\n",
    "month = 2\n",
    "filename = f'https://d37ci6vzurychx.cloudfront.net/trip-data/yellow_tripdata_{year:04d}-{month:02d}.parquet'\n",
    "categorical_columns = ['PULocationID', 'DOLocationID']\n",
    "model_path = \"model.bin\""
   ]
  },
  {
   "cell_type": "code",
   "execution_count": 3,
   "id": "7836ccfd",
   "metadata": {},
   "outputs": [],
   "source": [
    "def load_model(path: str) -> tuple:\n",
    "    \n",
    "    with open(path, 'rb') as f_in:\n",
    "        dv, model = pickle.load(f_in)\n",
    "    return dv, model\n",
    "\n",
    "def read_data(filename: str, categorical_columns: list) -> pd.DataFrame:\n",
    "    \n",
    "    df = pd.read_parquet(filename)\n",
    "    \n",
    "    df['duration'] = df.tpep_dropoff_datetime - df.tpep_pickup_datetime\n",
    "    df['duration'] = df.duration.dt.total_seconds() / 60\n",
    "\n",
    "    df = df[(df.duration >= 1) & (df.duration <= 60)].copy()\n",
    "\n",
    "    df[categorical_columns] = df[categorical_columns].fillna(-1).astype('int').astype('str')\n",
    "    \n",
    "    return df\n",
    "\n",
    "def model_prediction(dict_vectorizer, model, dataframe, categorical_columns):\n",
    "\n",
    "    dicts = dataframe[categorical_columns].to_dict(orient='records')\n",
    "    X_val = dict_vectorizer.transform(dicts)\n",
    "    y_pred = model.predict(X_val)\n",
    "\n",
    "    return y_pred\n",
    "\n",
    "def save_results(dataframe, predictions, year, month) -> None:\n",
    "\n",
    "    dataframe[\"ride_id\"] = f\"{year:04d}/{month:02d}\" + dataframe.index.astype(\"str\")\n",
    "    dataframe[\"predictions\"] = predictions.copy()\n",
    "    df_result = dataframe[[\"ride_id\", \"predictions\"]].copy()\n",
    "    output_file = f\"predictions_yellow_{year:04d}_{month:02d}.parquet\"\n",
    "    df_result.to_parquet(output_file, engine=\"pyarrow\", compression=None, index=False)"
   ]
  },
  {
   "cell_type": "code",
   "execution_count": 4,
   "id": "24f10d93",
   "metadata": {},
   "outputs": [],
   "source": [
    "dv, model = load_model(path=model_path)\n",
    "df = read_data(filename=filename, categorical_columns=categorical_columns)\n",
    "y_pred = model_prediction(dict_vectorizer=dv, model=model, dataframe=df, categorical_columns=categorical_columns)\n",
    "save_results(dataframe=df, predictions=y_pred, year=year, month=month)"
   ]
  },
  {
   "cell_type": "code",
   "execution_count": null,
   "id": "ab7380d8",
   "metadata": {},
   "outputs": [],
   "source": []
  }
 ],
 "metadata": {
  "kernelspec": {
   "display_name": "Python 3 (ipykernel)",
   "language": "python",
   "name": "python3"
  },
  "language_info": {
   "codemirror_mode": {
    "name": "ipython",
    "version": 3
   },
   "file_extension": ".py",
   "mimetype": "text/x-python",
   "name": "python",
   "nbconvert_exporter": "python",
   "pygments_lexer": "ipython3",
   "version": "3.9.12"
  }
 },
 "nbformat": 4,
 "nbformat_minor": 5
}
